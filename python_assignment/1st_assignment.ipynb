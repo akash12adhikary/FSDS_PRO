{
 "cells": [
  {
   "cell_type": "markdown",
   "id": "b68472b3-e07c-49f1-8edb-14c1b6131c60",
   "metadata": {},
   "source": [
    "1. Declare two variables, `x` and `y`, and assign them integer values. Swap the values of these variables without using any temporary variable."
   ]
  },
  {
   "cell_type": "code",
   "execution_count": 1,
   "id": "922f1dc0-6b62-4d1e-8516-7bd8a2300dcd",
   "metadata": {},
   "outputs": [],
   "source": [
    "x=12\n",
    "y=20\n",
    "(x,y)=(y,x)"
   ]
  },
  {
   "cell_type": "code",
   "execution_count": 2,
   "id": "72c5a966-52d2-4165-a5d5-d3c85fa1c82c",
   "metadata": {},
   "outputs": [
    {
     "data": {
      "text/plain": [
       "(20, 12)"
      ]
     },
     "execution_count": 2,
     "metadata": {},
     "output_type": "execute_result"
    }
   ],
   "source": [
    "x,y"
   ]
  },
  {
   "cell_type": "markdown",
   "id": "04534052-0419-4533-99bf-8912baef1541",
   "metadata": {},
   "source": [
    "2. Create a program that calculates the area of a rectangle. Take the length and width as inputs from the user and store them in variables. Calculate and display the area.\n"
   ]
  },
  {
   "cell_type": "code",
   "execution_count": 4,
   "id": "da29c208-a515-4d75-abd2-798bc913b1ee",
   "metadata": {},
   "outputs": [
    {
     "name": "stdin",
     "output_type": "stream",
     "text": [
      "enter the length :  100\n",
      "enter the breadth :  200\n"
     ]
    },
    {
     "name": "stdout",
     "output_type": "stream",
     "text": [
      "the area of the rectangle is:  20000\n"
     ]
    }
   ],
   "source": [
    "length=int(input(\"enter the length : \"))\n",
    "breadth=int(input(\"enter the breadth : \"))\n",
    "area=length*breadth\n",
    "print(\"the area of the rectangle is: \",area)"
   ]
  },
  {
   "cell_type": "markdown",
   "id": "df02c0e6-8045-4fdd-a3ac-1cb3b90eaeb5",
   "metadata": {},
   "source": [
    "3. Write a Python program that converts temperatures from Celsius to Fahrenheit. Take the temperature in Celsius as input, store it in a variable, convert it to Fahrenheit, and display the result"
   ]
  },
  {
   "cell_type": "code",
   "execution_count": 6,
   "id": "86bd152f-8ee0-4815-92c9-90e256e1b3f3",
   "metadata": {},
   "outputs": [
    {
     "name": "stdin",
     "output_type": "stream",
     "text": [
      "enter the celcius value:  15.25\n"
     ]
    },
    {
     "name": "stdout",
     "output_type": "stream",
     "text": [
      "the temperature in Fahrenheit is:  59.45\n"
     ]
    }
   ],
   "source": [
    "celcius=float(input(\"enter the celcius value: \"))\n",
    "fah=(celcius*(9/5))+32\n",
    "print(\"the temperature in Fahrenheit is: \",fah)"
   ]
  },
  {
   "cell_type": "markdown",
   "id": "6bffe43a-478b-422f-b03d-be07ce80c634",
   "metadata": {},
   "source": [
    "## String based questions "
   ]
  },
  {
   "cell_type": "markdown",
   "id": "df144ee7-c66d-4c8e-b2c8-579618d740a5",
   "metadata": {},
   "source": [
    "1. Write a Python program that takes a string as input and prints the length of the string."
   ]
  },
  {
   "cell_type": "code",
   "execution_count": 7,
   "id": "6d9168a6-51c2-40bc-a7bc-32a04e6aa743",
   "metadata": {},
   "outputs": [
    {
     "name": "stdin",
     "output_type": "stream",
     "text": [
      "enter a string:  akash\n"
     ]
    },
    {
     "name": "stdout",
     "output_type": "stream",
     "text": [
      "the length of your string : 5\n"
     ]
    }
   ],
   "source": [
    "n=input(\"enter a string: \")\n",
    "print(\"the length of your string :\",len(n)) "
   ]
  },
  {
   "cell_type": "markdown",
   "id": "81b034ca-75d9-4cde-bd90-d754426e8f6f",
   "metadata": {},
   "source": [
    "2. Create a program that takes a sentence from the user and counts the number of vowels (a, e, i, o, u) in the string."
   ]
  },
  {
   "cell_type": "code",
   "execution_count": 11,
   "id": "bcb2bf75-94a2-4fbb-a320-b1fdef248f8b",
   "metadata": {},
   "outputs": [
    {
     "name": "stdin",
     "output_type": "stream",
     "text": [
      "enter a string:  aKsdR AEIOU\n"
     ]
    },
    {
     "name": "stdout",
     "output_type": "stream",
     "text": [
      "number of vowels are:  6\n"
     ]
    }
   ],
   "source": [
    "n=input(\"enter a string: \")\n",
    "n=n.lower()\n",
    "vowels=0\n",
    "for i in range(len(n)):\n",
    "    if((\"a\" == n[i]) or (\"e\" ==n[i]) or (\"i\"==n[i]) or (\"o\" ==n[i]) or (\"u\"==n[i])):\n",
    "        vowels=vowels+1\n",
    "print(\"number of vowels are: \",vowels)\n",
    "    \n"
   ]
  },
  {
   "cell_type": "markdown",
   "id": "02f31bb4-1e39-47b0-bf02-ee879c5d129a",
   "metadata": {},
   "source": [
    "3. Given a string, reverse the order of characters using string slicing and print the reversed string."
   ]
  },
  {
   "cell_type": "code",
   "execution_count": 12,
   "id": "405587de-5478-44dd-81fc-8e63c6674422",
   "metadata": {},
   "outputs": [
    {
     "name": "stdin",
     "output_type": "stream",
     "text": [
      "enter a string:  akash is boy\n"
     ]
    },
    {
     "name": "stdout",
     "output_type": "stream",
     "text": [
      "reversed string:  yob si hsaka\n"
     ]
    }
   ],
   "source": [
    "n=input(\"enter a string: \")\n",
    "print(\"reversed string: \",n[::-1])"
   ]
  },
  {
   "cell_type": "markdown",
   "id": "ef4e29ba-e5b6-4e1f-9574-f9f4a0c980e7",
   "metadata": {},
   "source": [
    "4. Write a program that takes a string as input and checks if it is a palindrome (reads the same forwards and backwards).\n"
   ]
  },
  {
   "cell_type": "code",
   "execution_count": 15,
   "id": "e1b01cd5-22f4-4f9b-a9a3-94efbc2c600e",
   "metadata": {},
   "outputs": [
    {
     "name": "stdin",
     "output_type": "stream",
     "text": [
      "enter a string:  aba\n"
     ]
    },
    {
     "name": "stdout",
     "output_type": "stream",
     "text": [
      "its a palindrome string\n"
     ]
    }
   ],
   "source": [
    "n=input(\"enter a string: \")\n",
    "if(n==n[::-1]):\n",
    "    print(\"its a palindrome string\")\n",
    "else:\n",
    "    print(\"it is not\")"
   ]
  },
  {
   "cell_type": "markdown",
   "id": "c34a42e6-78ed-4fd0-a726-1277eb452702",
   "metadata": {},
   "source": [
    "5. Create a program that takes a string as input and removes all the spaces from it. Print the modified string without spaces."
   ]
  },
  {
   "cell_type": "code",
   "execution_count": 21,
   "id": "15512990-10f1-4e48-9b66-eaa3ce9b73aa",
   "metadata": {},
   "outputs": [
    {
     "name": "stdin",
     "output_type": "stream",
     "text": [
      "enter a string:      akash   is good   \n"
     ]
    },
    {
     "name": "stdout",
     "output_type": "stream",
     "text": [
      "akashisgood\n"
     ]
    }
   ],
   "source": [
    "n=input(\"enter a string: \")\n",
    "st=\"\"\n",
    "for i in range(len(n)):\n",
    "    if(\" \"==n[i]):\n",
    "        continue\n",
    "    else:\n",
    "        st=st+n[i]\n",
    "print(st)\n",
    "        "
   ]
  },
  {
   "cell_type": "code",
   "execution_count": null,
   "id": "9e161d21-a599-4dd0-addd-0ac892c47015",
   "metadata": {},
   "outputs": [],
   "source": []
  }
 ],
 "metadata": {
  "kernelspec": {
   "display_name": "Python 3 (ipykernel)",
   "language": "python",
   "name": "python3"
  },
  "language_info": {
   "codemirror_mode": {
    "name": "ipython",
    "version": 3
   },
   "file_extension": ".py",
   "mimetype": "text/x-python",
   "name": "python",
   "nbconvert_exporter": "python",
   "pygments_lexer": "ipython3",
   "version": "3.10.8"
  }
 },
 "nbformat": 4,
 "nbformat_minor": 5
}
